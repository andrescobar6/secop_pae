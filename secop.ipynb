{
 "cells": [
  {
   "cell_type": "markdown",
   "metadata": {},
   "source": [
    "# SECOP (PAE)"
   ]
  },
  {
   "cell_type": "markdown",
   "metadata": {},
   "source": [
    "LIBRERÍAS"
   ]
  },
  {
   "cell_type": "code",
   "execution_count": 1,
   "metadata": {
    "collapsed": true
   },
   "outputs": [],
   "source": [
    "import csv\n",
    "import pip\n",
    "import string\n",
    "import numpy as np\n",
    "import pandas as pd\n",
    "import matplotlib.pyplot as plt"
   ]
  },
  {
   "cell_type": "markdown",
   "metadata": {},
   "source": [
    "IMPORTAR BASE DE DATOS"
   ]
  },
  {
   "cell_type": "code",
   "execution_count": 15,
   "metadata": {},
   "outputs": [],
   "source": [
    "SECOP2=pd.read_csv(\"SECOP II (CARO).csv\",skiprows=1,error_bad_lines=False,names=[\"ENTIDAD COMPRADORA\",\"NIT ENTIDAD COMPRADORA\",\"ID PROCESO\",\"ID SOLICITUD DE PROCESO\",\"IDENTIFICADOR OPERACION\",\"SEGMENTO\",\"DESCRIPCION CONTRATO\",\"MODALIDAD CONTRATACION\",\"ID CONTRATO\",\"TIPO DE CONTRATO\",\"FECHA INICIO CONTRATO\",\"FECHA FIN CONTRATO\",\"FECHA INICIO EJECUCION\",\"FECHA FIN EJECUCION\",\"FECHA CREACION CONTRATO\",\"CONDICIONES DE ENTREGA\",\"ENTIDAD PROVEEDORA\",\"NIT ENTIDAD PROVEEDORA\",\"ES GRUPO-UNION\",\"ESTADO CONTRATO\",\"PRECIO BASE PROPUESTA\",\"VALOR CONTRATO\",\"PORCENTAJE ANTICIPO\",\"VALOR ANTICIPO\",\"VALOR FACTURADO\",\"CODIGO CATEGORIA\",\"DESCRIPCION CATEGORIA\",\"CATEGORIA NIVEL 1\",\"CATEGORIA NIVEL 2\",\"CATEGORIA NIVEL 3\",\"CATEGORIA NIVEL 4\",\"CATEGORIA NIVEL 5\",\"DEPARTAMENTO\",\"MUNICIPIO\",\"ID ADJUDICACION\",\"FECHA INICIO LIQUIDACION\",\"FECHA FINAL LIQUIDACION\",\"COMENTARIOS INTERNOS CONTRATO\",\"NUMERO DE ADENDAS\",\"URLCONTRATO\"], engine=\"python\")\n",
    "# SECOP2=SECOP2[[\"ANO_CARGUE\",\"NIVEL_ENTIDAD\",\"NOMBRE_ENTIDAD\",\"TIPO_PROCESO\",\"ESTADO_PROCESO\",\"OBJETO\",\"DETALLE\",\"TIPO_CONTRATO\",\"MUNICIPIO_EJECUCION\",\"FECHA_CARGUE\",\"NUMERO_PROCESO\",\"NUMERO_CONTRATO\",\"CUANTIA_PROCESO\",\"NOMBRE_GRUPO\",\"NOMBRE_FAMILIA\",\"NOMBRE_CLASE\",\"TIPO_ID_CONTRATISTA\",\"ID_CONTRATISTA\",\"NOMBRE_CONTRATISTA\",\"ORIGEN_CONTRATISTA\",\"TIPO_ID_REPRESENTANTE\",\"ID_REPRESENTANTE\",\"NOMBRE_REPRESENTANTE\",\"ANO_FIRMA\",\"FECHA_FIRMA\",\"FECHA_INI_CONTRATO\",\"PLAZO_CONTRATO\",\"RANGO_PLAZO_CONTRATO\",\"ADICIONES_DIAS\",\"ADICIONES_MESES\",\"FECHA_FIN_CONTRATO\",\"COMPROMISO_PRESUPUESTAL\",\"MONEDA\",\"CUANTIA_CONTRATO\",\"VALOR_ADICIONES\",\"VALOR_TOTAL_CONTRATO\",\"OBJETO_A_FIRMA\",\"ORIGEN_RECURSOS\",\"PROPONENTES_SELECCIONADOS\",\"CALIFICACION\",\"UNIDAD_EJECUTORA\",\"URL\"]]\n",
    "\n",
    "# SECOP2.columns = SECOP2.columns.get_level_values(0)"
   ]
  },
  {
   "cell_type": "markdown",
   "metadata": {},
   "source": [
    "FORMATO DE COLUMNAS"
   ]
  },
  {
   "cell_type": "code",
   "execution_count": null,
   "metadata": {
    "collapsed": true
   },
   "outputs": [],
   "source": [
    "#________________FORMATO DE FECHA\n",
    "\n",
    "SECOP[\"ANO_FIRMA\"]=pd.to_datetime(SECOP[\"ANO_FIRMA\"],format=\"%Y.0\")\n",
    "SECOP[\"ANO_CARGUE\"]=pd.to_datetime(SECOP[\"ANO_CARGUE\"],format=\"%Y\")\n",
    "SECOP[\"FECHA_FIRMA\"]=pd.to_datetime(SECOP[\"FECHA_FIRMA\"],format=\"%d/%m/%Y\")\n",
    "SECOP[\"FECHA_INI_CONTRATO\"]=pd.to_datetime(SECOP[\"FECHA_INI_CONTRATO\"],format=\"%d/%m/%Y\")\n",
    "SECOP[\"FECHA_FIN_CONTRATO\"]=pd.to_datetime(SECOP[\"FECHA_FIN_CONTRATO\"],format=\"%d/%m/%Y\")\n",
    "SECOP[\"FECHA_CARGUE\"]=pd.to_datetime(SECOP[\"FECHA_CARGUE\"],format=\"%m/%d/%Y %I:%M:%S %p\")"
   ]
  },
  {
   "cell_type": "markdown",
   "metadata": {},
   "source": [
    "DICCIONARIO DE LIMPIEZA"
   ]
  },
  {
   "cell_type": "code",
   "execution_count": null,
   "metadata": {
    "collapsed": true
   },
   "outputs": [],
   "source": [
    "DICCIONARIO=pd.read_excel(\"DICCIONARIO.xlsx\")\n",
    "DICCIONARIO.fillna(\"\",inplace=True)\n",
    "DICCIONARIO=DICCIONARIO.set_index('CHARACTER').T.to_dict('list')"
   ]
  },
  {
   "cell_type": "markdown",
   "metadata": {},
   "source": [
    "_________"
   ]
  },
  {
   "cell_type": "markdown",
   "metadata": {},
   "source": [
    "LIMPIAR BASE DE DATOS"
   ]
  },
  {
   "cell_type": "code",
   "execution_count": null,
   "metadata": {
    "collapsed": true
   },
   "outputs": [],
   "source": [
    "for i in list(SECOP.columns):\n",
    "    if SECOP[i].dtype==\"object\":\n",
    "        SECOP[i] = SECOP[i].astype(str)\n",
    "\n",
    "for index, row in SECOP.iterrows():\n",
    "    for i in list(SECOP.columns):\n",
    "        if (SECOP[i].dtype==\"object\") and (i!=\"URL\"):\n",
    "            SECOP.loc[index,i]=(\"\".join([item for sublist in [DICCIONARIO.get(item,item) for item in list(row[i].decode(\"utf-8\"))] for item in sublist]))"
   ]
  },
  {
   "cell_type": "markdown",
   "metadata": {},
   "source": [
    "REMOVE TRASH SPACES"
   ]
  },
  {
   "cell_type": "code",
   "execution_count": null,
   "metadata": {
    "collapsed": true
   },
   "outputs": [],
   "source": [
    "for i in list(SECOP.columns):\n",
    "    if (SECOP[i].dtype==\"object\") and (i!=\"URL\"):\n",
    "        SECOP[i] = SECOP[i].str.strip()\n",
    "        SECOP[i] = SECOP[i].str.replace(\"  \",\" \")"
   ]
  },
  {
   "cell_type": "markdown",
   "metadata": {},
   "source": [
    "ELIMINAR DÍGITOS INICIALES DE COLUMNAS ESPECÍFICAS"
   ]
  },
  {
   "cell_type": "code",
   "execution_count": null,
   "metadata": {
    "collapsed": true
   },
   "outputs": [],
   "source": [
    "lista_sin_digitos=[\"NIVEL_ENTIDAD\",\"NOMBRE_ENTIDAD\",\"TIPO_PROCESO\",\"ESTADO_PROCESO\",\"TIPO_CONTRATO\",\"MUNICIPIO_EJECUCION\",\"NOMBRE_GRUPO\",\"NOMBRE_FAMILIA\",\"NOMBRE_CLASE\",\"TIPO_ID_CONTRATISTA\",\"NOMBRE_CONTRATISTA\",\"ORIGEN_CONTRATISTA\",\"TIPO_ID_REPRESENTANTE\",\"NOMBRE_REPRESENTANTE\",\"COMPROMISO_PRESUPUESTAL\",\"MONEDA\",\"ORIGEN_RECURSOS\",\"PROPONENTES_SELECCIONADOS\",\"UNIDAD_EJECUTORA\"]\n",
    "\n",
    "for i in lista_sin_digitos:\n",
    "    SECOP[i] = SECOP[i].str.replace('\\d+', '')"
   ]
  },
  {
   "cell_type": "markdown",
   "metadata": {},
   "source": [
    "ELIMINAR TEXTO DE COLUMNAS DE ID, DINERO, ETC"
   ]
  },
  {
   "cell_type": "code",
   "execution_count": null,
   "metadata": {
    "collapsed": true
   },
   "outputs": [],
   "source": [
    "lista_sin_texto=[\"ID_CONTRATISTA\",\"ID_REPRESENTANTE\",\"PLAZO_CONTRATO\",\"ADICIONES_DIAS\",\"ADICIONES_MESES\",\"CUANTIA_CONTRATO\",\"VALOR_ADICIONES\",\"VALOR_TOTAL_CONTRATO\"]\n",
    "\n",
    "for i in lista_sin_texto:\n",
    "    try:\n",
    "        SECOP[i] = SECOP[i].str.replace(r'\\D+', '')\n",
    "    except:\n",
    "        SECOP[i]=SECOP[i]"
   ]
  },
  {
   "cell_type": "markdown",
   "metadata": {},
   "source": [
    "REMOVE TRASH SPACES"
   ]
  },
  {
   "cell_type": "code",
   "execution_count": null,
   "metadata": {
    "collapsed": true
   },
   "outputs": [],
   "source": [
    "for i in list(SECOP.columns):\n",
    "    if (SECOP[i].dtype==\"object\") and (i!=\"URL\"):\n",
    "        SECOP[i] = SECOP[i].str.strip()\n",
    "        SECOP[i] = SECOP[i].str.replace(\"  \",\" \")"
   ]
  },
  {
   "cell_type": "markdown",
   "metadata": {},
   "source": [
    "PLAZO_DEL_CONTRATO_DIAS"
   ]
  },
  {
   "cell_type": "code",
   "execution_count": null,
   "metadata": {
    "collapsed": true
   },
   "outputs": [],
   "source": [
    "SECOP['PLAZO_DEL_CONTRATO_DIAS'] = pd.np.where(SECOP[\"RANGO_PLAZO_CONTRATO\"].str.contains(\"d\"), SECOP[\"PLAZO_CONTRATO\"],\n",
    "                                               pd.np.where(SECOP[\"RANGO_PLAZO_CONTRATO\"].str.contains(\"m\"),SECOP[\"PLAZO_CONTRATO\"]*30,SECOP[\"PLAZO_CONTRATO\"]))\n",
    "\n",
    "SECOP.drop([\"RANGO_PLAZO_CONTRATO\",\"PLAZO_CONTRATO\"],axis=1,inplace=True)\n",
    "SECOP.columns = SECOP.columns.get_level_values(0)\n",
    "SECOP=SECOP[['ANO_CARGUE','NIVEL_ENTIDAD','NOMBRE_ENTIDAD','TIPO_PROCESO','ESTADO_PROCESO','OBJETO','DETALLE','TIPO_CONTRATO','MUNICIPIO_EJECUCION','FECHA_CARGUE','NUMERO_PROCESO','NUMERO_CONTRATO','CUANTIA_PROCESO','NOMBRE_GRUPO','NOMBRE_FAMILIA','NOMBRE_CLASE','TIPO_ID_CONTRATISTA','ID_CONTRATISTA','NOMBRE_CONTRATISTA','ORIGEN_CONTRATISTA','TIPO_ID_REPRESENTANTE','ID_REPRESENTANTE','NOMBRE_REPRESENTANTE','ANO_FIRMA','FECHA_FIRMA','FECHA_INI_CONTRATO','PLAZO_DEL_CONTRATO_DIAS','ADICIONES_DIAS','ADICIONES_MESES','FECHA_FIN_CONTRATO','COMPROMISO_PRESUPUESTAL','MONEDA','CUANTIA_CONTRATO','VALOR_ADICIONES','VALOR_TOTAL_CONTRATO','OBJETO_A_FIRMA','ORIGEN_RECURSOS','PROPONENTES_SELECCIONADOS','CALIFICACION','UNIDAD_EJECUTORA','URL']]\n",
    "SECOP.columns = SECOP.columns.get_level_values(0)"
   ]
  },
  {
   "cell_type": "markdown",
   "metadata": {},
   "source": [
    "ADICIONES_TOTAL_DIAS"
   ]
  },
  {
   "cell_type": "code",
   "execution_count": null,
   "metadata": {
    "collapsed": true
   },
   "outputs": [],
   "source": [
    "SECOP['ADICIONES_DIAS_TOTAL'] = SECOP[\"ADICIONES_DIAS\"]+SECOP[\"ADICIONES_MESES\"]*30\n",
    "SECOP=SECOP[['ANO_CARGUE','NIVEL_ENTIDAD','NOMBRE_ENTIDAD','TIPO_PROCESO','ESTADO_PROCESO','OBJETO','DETALLE','TIPO_CONTRATO','MUNICIPIO_EJECUCION','FECHA_CARGUE','NUMERO_PROCESO','NUMERO_CONTRATO','CUANTIA_PROCESO','NOMBRE_GRUPO','NOMBRE_FAMILIA','NOMBRE_CLASE','TIPO_ID_CONTRATISTA','ID_CONTRATISTA','NOMBRE_CONTRATISTA','ORIGEN_CONTRATISTA','TIPO_ID_REPRESENTANTE','ID_REPRESENTANTE','NOMBRE_REPRESENTANTE','ANO_FIRMA','FECHA_FIRMA','FECHA_INI_CONTRATO','PLAZO_DEL_CONTRATO_DIAS','ADICIONES_DIAS_TOTAL','FECHA_FIN_CONTRATO','COMPROMISO_PRESUPUESTAL','MONEDA','CUANTIA_CONTRATO','VALOR_ADICIONES','VALOR_TOTAL_CONTRATO','OBJETO_A_FIRMA','ORIGEN_RECURSOS','PROPONENTES_SELECCIONADOS','CALIFICACION','UNIDAD_EJECUTORA','URL']]\n",
    "SECOP.columns = SECOP.columns.get_level_values(0)"
   ]
  },
  {
   "cell_type": "markdown",
   "metadata": {},
   "source": [
    "____________________________________"
   ]
  },
  {
   "cell_type": "markdown",
   "metadata": {},
   "source": [
    "VERIFICACIÓN DE DATOS: DETALLE, ENTIDAD, NIVEL ENTIDAD"
   ]
  },
  {
   "cell_type": "code",
   "execution_count": null,
   "metadata": {
    "collapsed": true
   },
   "outputs": [],
   "source": [
    "SECOP['RIESGO'] = pd.np.where(SECOP[\"DETALLE\"].str.contains(\" pae \"), 0,1)\n",
    "SECOP['RIESGO'] = pd.np.where(SECOP[\"DETALLE\"].str.contains(\" sempae \"), 0,SECOP[\"RIESGO\"]+1)\n",
    "SECOP['RIESGO'] = pd.np.where(SECOP[\"DETALLE\"].str.contains(\"alimentacion escolar\"), 0,SECOP[\"RIESGO\"]+1)\n",
    "SECOP['RIESGO'] = pd.np.where(SECOP[\"DETALLE\"].str.contains(\" fopae \"), SECOP[\"RIESGO\"]+1,SECOP[\"RIESGO\"])"
   ]
  },
  {
   "cell_type": "markdown",
   "metadata": {},
   "source": [
    "__________________________________"
   ]
  },
  {
   "cell_type": "markdown",
   "metadata": {},
   "source": [
    "DATABASE TO CSV"
   ]
  },
  {
   "cell_type": "code",
   "execution_count": null,
   "metadata": {
    "collapsed": true
   },
   "outputs": [],
   "source": [
    "SECOP2.to_csv(\"SECOP II (PAE).csv\",sep=';',index=False,encoding=\"utf-8\")"
   ]
  }
 ],
 "metadata": {
  "kernelspec": {
   "display_name": "Python 2",
   "language": "python",
   "name": "python2"
  },
  "language_info": {
   "codemirror_mode": {
    "name": "ipython",
    "version": 2
   },
   "file_extension": ".py",
   "mimetype": "text/x-python",
   "name": "python",
   "nbconvert_exporter": "python",
   "pygments_lexer": "ipython2",
   "version": "2.7.13"
  }
 },
 "nbformat": 4,
 "nbformat_minor": 2
}
