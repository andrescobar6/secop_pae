{
 "cells": [
  {
   "cell_type": "markdown",
   "metadata": {},
   "source": [
    "# LIBRERÍAS"
   ]
  },
  {
   "cell_type": "code",
   "execution_count": null,
   "metadata": {},
   "outputs": [],
   "source": [
    "import numpy as np\n",
    "import pandas as pd\n",
    "from math import sqrt\n",
    "from scipy.stats import t\n",
    "from sklearn import metrics\n",
    "import statsmodels.api as sm\n",
    "from numpy import average, std\n",
    "import seaborn as sns;sns.set()\n",
    "import matplotlib.pyplot as plt\n",
    "from sklearn import linear_model\n",
    "from pandas.core import datetools\n",
    "from scipy.spatial import distance\n",
    "from sklearn.cluster import KMeans\n",
    "from sklearn.cluster import DBSCAN\n",
    "from sklearn.decomposition import PCA\n",
    "from scipy.spatial.distance import cdist\n",
    "from sklearn.cluster import SpectralClustering\n",
    "from sklearn.ensemble import RandomForestRegressor\n",
    "from sklearn.datasets.samples_generator import make_blobs"
   ]
  },
  {
   "cell_type": "markdown",
   "metadata": {},
   "source": [
    "# IMPORTAR DATOS"
   ]
  },
  {
   "cell_type": "markdown",
   "metadata": {},
   "source": [
    "MATRIZ"
   ]
  },
  {
   "cell_type": "code",
   "execution_count": null,
   "metadata": {
    "collapsed": true
   },
   "outputs": [],
   "source": [
    "data = pd.ExcelFile('SECOP (PAE) (FINAL).xlsx')\n",
    "matriz = pd.read_excel(data,'MATRIZ',names=[\"ID\",\"PLAZO (CLASE)\",\"VALOR (CLASE)\",\"A. TIEMPO (CLASE)\",\"A. DINERO (CLASE)\",\"PLAZO\",\"VALOR\",\"A. TIEMPO\",\"A. DINERO\",\"URL\"])\n",
    "\n",
    "W = matriz[['PLAZO (CLASE)']].values\n",
    "X = matriz[['VALOR (CLASE)']].values\n",
    "Y = matriz[['A. TIEMPO (CLASE)']].values\n",
    "Z = matriz[['A. DINERO (CLASE)']].values\n",
    "\n",
    "W2 = matriz[['PLAZO']].values\n",
    "X2 = matriz[['VALOR']].values\n",
    "Y2 = matriz[['A. TIEMPO']].values\n",
    "Z2 = matriz[['A. DINERO']].values\n",
    "\n",
    "Q = matriz[['PLAZO (CLASE)','VALOR (CLASE)','A. TIEMPO (CLASE)','A. DINERO (CLASE)']]"
   ]
  },
  {
   "cell_type": "markdown",
   "metadata": {},
   "source": [
    "# ELBOW METHOD"
   ]
  },
  {
   "cell_type": "markdown",
   "metadata": {},
   "source": [
    "FIT MATRIZ"
   ]
  },
  {
   "cell_type": "code",
   "execution_count": null,
   "metadata": {
    "scrolled": false
   },
   "outputs": [],
   "source": [
    "distortions = []\n",
    "K = range(1,10)\n",
    "for k in K:\n",
    "    kmeanModel = KMeans(n_clusters=k).fit(Q)\n",
    "    kmeanModel.fit(Q)\n",
    "    distortions.append(sum(np.min(cdist(Q, kmeanModel.cluster_centers_, 'euclidean'), axis=1)) / Q.shape[0])\n",
    " \n",
    "plt.plot(K, distortions, 'bx-')\n",
    "plt.xlabel('K')\n",
    "plt.ylabel('Wk')\n",
    "plt.title('Elbow Method')\n",
    "plt.show()"
   ]
  },
  {
   "cell_type": "markdown",
   "metadata": {},
   "source": [
    "# DBSCAN"
   ]
  },
  {
   "cell_type": "code",
   "execution_count": null,
   "metadata": {
    "scrolled": true
   },
   "outputs": [],
   "source": [
    "db = DBSCAN(eps=1.5,algorithm=\"brute\")\n",
    "db.fit_predict(Q)\n",
    "pca_2 = PCA(2)\n",
    "plot_columns = pca_2.fit_transform(Q)\n",
    "plt.scatter(x=plot_columns[:,0], y=plot_columns[:,1], c=db.labels_,cmap=\"viridis\")\n",
    "plt.xlabel('Canonical variable 1')\n",
    "plt.ylabel('Canonical variable 2')\n",
    "plt.title('Scatterplot of Canonical Variables for 3 Clusters')\n",
    "plt.show()"
   ]
  },
  {
   "cell_type": "markdown",
   "metadata": {},
   "source": [
    "# K-MEANS"
   ]
  },
  {
   "cell_type": "markdown",
   "metadata": {},
   "source": [
    "ANALYSIS"
   ]
  },
  {
   "cell_type": "code",
   "execution_count": null,
   "metadata": {
    "scrolled": true
   },
   "outputs": [],
   "source": [
    "kmeanModel = KMeans(n_clusters=3).fit(Q)\n",
    "y_kmeans = kmeanModel.predict(Q)\n",
    "pca_2 = PCA(2,whiten=True,svd_solver=\"full\")\n",
    "plot_columns = pca_2.fit_transform(Q)\n",
    "plt.scatter(x=plot_columns[:,0], y=plot_columns[:,1], c=kmeanModel.labels_,cmap=\"viridis\")\n",
    "plt.xlabel('Canonical variable 1')\n",
    "plt.ylabel('Canonical variable 2')\n",
    "plt.title('Scatterplot of Canonical Variables for 3 Clusters')\n",
    "plt.show()"
   ]
  },
  {
   "cell_type": "markdown",
   "metadata": {},
   "source": [
    "# GRÁFICAS CON CLUSTERS"
   ]
  },
  {
   "cell_type": "markdown",
   "metadata": {},
   "source": [
    "PLAZO - VALOR"
   ]
  },
  {
   "cell_type": "code",
   "execution_count": null,
   "metadata": {},
   "outputs": [],
   "source": [
    "plt.plot()\n",
    "plt.xlim([min(X)-0.1, max(X)+0.1])\n",
    "plt.ylim([min(Y)-0.1, max(Y)+0.1])\n",
    "plt.title('PLAZO vs. VALOR')\n",
    "plt.xlabel('PLAZO')\n",
    "plt.ylabel('VALOR')\n",
    "plt.scatter(X, Y,c=kmeanModel.labels_,cmap=\"viridis\")\n",
    "plt.show()"
   ]
  },
  {
   "cell_type": "markdown",
   "metadata": {},
   "source": [
    "A. TIEMPO - A. DINERO"
   ]
  },
  {
   "cell_type": "code",
   "execution_count": null,
   "metadata": {},
   "outputs": [],
   "source": [
    "plt.plot()\n",
    "plt.xlim([min(Y)-0.1, max(Y)+0.1])\n",
    "plt.ylim([min(Z)-0.1, max(Z)+0.1])\n",
    "plt.title('A. TIEMPO vs. A. DINERO')\n",
    "plt.xlabel('A. TIEMPO')\n",
    "plt.ylabel('A. DINERO')\n",
    "plt.scatter(Y, Z,c=kmeanModel.labels_,cmap=\"viridis\")\n",
    "plt.show()"
   ]
  },
  {
   "cell_type": "markdown",
   "metadata": {},
   "source": [
    "PLAZO - A. TIEMPO"
   ]
  },
  {
   "cell_type": "code",
   "execution_count": null,
   "metadata": {},
   "outputs": [],
   "source": [
    "plt.plot()\n",
    "plt.xlim([min(W)-0.1, max(W)+0.1])\n",
    "plt.ylim([min(Y)-0.1, max(Y)+0.1])\n",
    "plt.title('PLAZO vs. A. TIEMPO')\n",
    "plt.xlabel('PLAZO')\n",
    "plt.ylabel('A. TIEMPO')\n",
    "plt.scatter(W, Y,c=kmeanModel.labels_,cmap=\"viridis\")\n",
    "plt.show()"
   ]
  },
  {
   "cell_type": "markdown",
   "metadata": {},
   "source": [
    "VALOR - A. DINERO"
   ]
  },
  {
   "cell_type": "code",
   "execution_count": null,
   "metadata": {},
   "outputs": [],
   "source": [
    "plt.plot()\n",
    "plt.xlim([min(X)-0.1, max(X)+0.1])\n",
    "plt.ylim([min(Z)-0.1, max(Z)+0.1])\n",
    "plt.title('VALOR vs. A. DINERO')\n",
    "plt.xlabel('VALOR')\n",
    "plt.ylabel('A. DINERO')\n",
    "plt.scatter(X, Z,c=kmeanModel.labels_,cmap=\"viridis\")\n",
    "plt.show()"
   ]
  },
  {
   "cell_type": "markdown",
   "metadata": {},
   "source": [
    "# CENTROIDES"
   ]
  },
  {
   "cell_type": "markdown",
   "metadata": {},
   "source": [
    "ACTUALIZAR MATRIZ"
   ]
  },
  {
   "cell_type": "code",
   "execution_count": null,
   "metadata": {
    "collapsed": true
   },
   "outputs": [],
   "source": [
    "matriz[\"CLUSTER\"]=pd.DataFrame(list(y_kmeans))"
   ]
  },
  {
   "cell_type": "markdown",
   "metadata": {},
   "source": [
    "CENTROIDES"
   ]
  },
  {
   "cell_type": "code",
   "execution_count": null,
   "metadata": {
    "collapsed": true
   },
   "outputs": [],
   "source": [
    "cluster_0=kmeanModel.cluster_centers_[0]\n",
    "cluster_1=kmeanModel.cluster_centers_[1]\n",
    "cluster_2=kmeanModel.cluster_centers_[2]"
   ]
  },
  {
   "cell_type": "markdown",
   "metadata": {},
   "source": [
    "DITANCIA EUCLIDIANA"
   ]
  },
  {
   "cell_type": "code",
   "execution_count": null,
   "metadata": {
    "collapsed": true
   },
   "outputs": [],
   "source": [
    "matriz[\"VECTOR (CLASE)\"]=matriz[['PLAZO (CLASE)','VALOR (CLASE)','A. TIEMPO (CLASE)','A. DINERO (CLASE)']].values.tolist()"
   ]
  },
  {
   "cell_type": "code",
   "execution_count": null,
   "metadata": {
    "collapsed": true
   },
   "outputs": [],
   "source": [
    "clusters=[]\n",
    "for row in matriz[\"CLUSTER\"]:\n",
    "    if row == 0:\n",
    "        clusters.append(cluster_0.tolist())\n",
    "    elif row == 1:\n",
    "        clusters.append(cluster_1.tolist())\n",
    "    elif row ==2:\n",
    "        clusters.append(cluster_2.tolist())\n",
    "\n",
    "matriz[\"CENTROIDE (CLASE)\"]=clusters"
   ]
  },
  {
   "cell_type": "markdown",
   "metadata": {},
   "source": [
    "# ECUACIONES HISTOGRAMICAS ATRIBUYENTES"
   ]
  },
  {
   "cell_type": "markdown",
   "metadata": {},
   "source": [
    "ESTIMACION DE POLINOMIOS"
   ]
  },
  {
   "cell_type": "code",
   "execution_count": null,
   "metadata": {
    "collapsed": true
   },
   "outputs": [],
   "source": [
    "# x = np.array([9,10,11,12])\n",
    "# y = np.array([600,5000,15000,64300])\n",
    "# z = np.polyfit(x, y, 6)\n",
    "# list(z)"
   ]
  },
  {
   "cell_type": "markdown",
   "metadata": {},
   "source": [
    "ECUACIONES"
   ]
  },
  {
   "cell_type": "code",
   "execution_count": null,
   "metadata": {
    "collapsed": true
   },
   "outputs": [],
   "source": [
    "#___________________PLAZO\n",
    "\n",
    "def plazo(x):\n",
    "    \n",
    "    y= (31.75)*x**4 - (339.5)*x**3 + (1281.8)*x**2 - (1902)*x + 1045\n",
    "    \n",
    "    return abs(y)\n",
    "\n",
    "#___________________VALOR\n",
    "\n",
    "def valor(x):\n",
    "    \n",
    "    if x <= 9:\n",
    "        y = (0.2039)*x**6 - (5.4724)*x**5 + (57.417)*x**4 - (297.35)*x**3 + (788.44)*x**2 - (986.32)*x + 455.67\n",
    "    else:\n",
    "        y = 0.5801366953438196*x**6-4.3475606700219505*x**5-69.06764332045618*x**4-201.42414196416192*x**3+6154.0731469554385*x**2+85790.86522364747*x-721596.0201049197\n",
    "    return abs(y)\n",
    "\n",
    "#___________________A. TIEMPO\n",
    "\n",
    "def atiempo(x):\n",
    "    \n",
    "    y = (0.135)*x**3 - (0.8699)*x**2 + (1.8748)*x - 1.1399\n",
    "    \n",
    "    return abs(y)\n",
    "\n",
    "#___________________A. DINERO\n",
    "\n",
    "def adinero(x):\n",
    "    \n",
    "    y = (-0.0127)*x**4 + (0.1702)*x**3 - (0.7541)*x**2 + (1.441)*x - 0.8445\n",
    "    \n",
    "    return abs(y)"
   ]
  },
  {
   "cell_type": "markdown",
   "metadata": {},
   "source": [
    "VECTORES CLUSTER"
   ]
  },
  {
   "cell_type": "code",
   "execution_count": null,
   "metadata": {
    "collapsed": true
   },
   "outputs": [],
   "source": [
    "cluster_0_v=cluster_0.copy()\n",
    "cluster_1_v=cluster_1.copy()\n",
    "cluster_2_v=cluster_2.copy()\n",
    "\n",
    "for i in range(4):\n",
    "    if i == 0:\n",
    "        cluster_0_v[i]=plazo(cluster_0[i])\n",
    "    if i == 1:\n",
    "        cluster_0_v[i]=valor(cluster_0[i])\n",
    "    if i == 2:\n",
    "        cluster_0_v[i]=atiempo(cluster_0[i])\n",
    "    if i == 3:\n",
    "        cluster_0_v[i]=adinero(cluster_0[i])\n",
    "\n",
    "for i in range(4):\n",
    "    if i == 0:\n",
    "        cluster_1_v[i]=plazo(cluster_1[i])\n",
    "    if i == 1:\n",
    "        cluster_1_v[i]=valor(cluster_1[i])\n",
    "    if i == 2:\n",
    "        cluster_1_v[i]=atiempo(cluster_1[i])\n",
    "    if i == 3:\n",
    "        cluster_1_v[i]=adinero(cluster_1[i])\n",
    "        \n",
    "for i in range(4):\n",
    "    if i == 0:\n",
    "        cluster_2_v[i]=plazo(cluster_2[i])\n",
    "    if i == 1:\n",
    "        cluster_2_v[i]=valor(cluster_2[i])\n",
    "    if i == 2:\n",
    "        cluster_2_v[i]=atiempo(cluster_2[i])\n",
    "    if i == 3:\n",
    "        cluster_2_v[i]=adinero(cluster_2[i])\n",
    "\n",
    "\n",
    "clusters_vector=[]\n",
    "for row in matriz[\"CLUSTER\"]:\n",
    "    if row == 0:\n",
    "        clusters_vector.append(cluster_0_v.tolist())\n",
    "    elif row == 1:\n",
    "        clusters_vector.append(cluster_1_v.tolist())\n",
    "    elif row ==2:\n",
    "        clusters_vector.append(cluster_2_v.tolist())\n",
    "\n",
    "matriz[\"CENTROIDE (VECTOR)\"]=clusters_vector"
   ]
  },
  {
   "cell_type": "markdown",
   "metadata": {},
   "source": [
    "DISTANCIAS"
   ]
  },
  {
   "cell_type": "code",
   "execution_count": null,
   "metadata": {
    "collapsed": true
   },
   "outputs": [],
   "source": [
    "distances=[]\n",
    "\n",
    "for i in range(0,len(matriz)):\n",
    "    distances.append(distance.euclidean(matriz[\"CENTROIDE (CLASE)\"][i],matriz[\"VECTOR (CLASE)\"][i]))\n",
    "\n",
    "matriz[\"DISTANCIA\"]=distances\n",
    "\n",
    "matriz=matriz[[\"ID\",\"URL\",\"PLAZO (CLASE)\",\"VALOR (CLASE)\",\"A. TIEMPO (CLASE)\",\"A. DINERO (CLASE)\",\"VECTOR (CLASE)\", \"CLUSTER\",\"CENTROIDE (CLASE)\", \"DISTANCIA\"]]\n",
    "matriz.columns = matriz.columns.get_level_values(0)"
   ]
  },
  {
   "cell_type": "markdown",
   "metadata": {},
   "source": [
    "# MATRIZ"
   ]
  },
  {
   "cell_type": "code",
   "execution_count": null,
   "metadata": {
    "scrolled": true
   },
   "outputs": [],
   "source": [
    "matriz"
   ]
  },
  {
   "cell_type": "markdown",
   "metadata": {},
   "source": [
    "# PRUEBAS ESTADISTICAS"
   ]
  },
  {
   "cell_type": "markdown",
   "metadata": {},
   "source": [
    "VISTA GENERAL"
   ]
  },
  {
   "cell_type": "code",
   "execution_count": null,
   "metadata": {},
   "outputs": [],
   "source": [
    "matriz.describe()"
   ]
  },
  {
   "cell_type": "markdown",
   "metadata": {},
   "source": [
    "REGRESION LINEAL MULTIPLE"
   ]
  },
  {
   "cell_type": "code",
   "execution_count": null,
   "metadata": {
    "scrolled": false
   },
   "outputs": [],
   "source": [
    "B = matriz[['PLAZO (CLASE)','VALOR (CLASE)','A. TIEMPO (CLASE)','A. DINERO (CLASE)']]\n",
    "Q = matriz[[\"DISTANCIA\"]]\n",
    "\n",
    "# MODELO\n",
    "# B=sm.add_constant(B)\n",
    "model = sm.OLS(Q, B).fit()\n",
    "\n",
    "# RESUMEN\n",
    "model.summary()"
   ]
  },
  {
   "cell_type": "markdown",
   "metadata": {},
   "source": [
    "INTERVALO DE CONFIANZA (DISTANCIA) - GLOBAL"
   ]
  },
  {
   "cell_type": "code",
   "execution_count": null,
   "metadata": {},
   "outputs": [],
   "source": [
    "data = matriz[\"DISTANCIA\"].values\n",
    "mean = average(data)\n",
    "\n",
    "stddev = std(data, ddof=1)\n",
    "\n",
    "t_bounds = t.interval(0.95, len(data) - 1)\n",
    "\n",
    "cG = [mean + critval * stddev / sqrt(len(data)) for critval in t_bounds]\n",
    "\n",
    "print \"Media: %f\" % mean\n",
    "print \"Tamano Muestra: \", len(data)\n",
    "print \"Intervalo de Confianza 95%%: [%f, %f]\" % (cG[0], cG[1])"
   ]
  },
  {
   "cell_type": "markdown",
   "metadata": {},
   "source": [
    "INTERVALO DE CONFIANZA (DISTANCIA) - CLUSTER 0"
   ]
  },
  {
   "cell_type": "code",
   "execution_count": null,
   "metadata": {},
   "outputs": [],
   "source": [
    "data = matriz.loc[matriz[\"CLUSTER\"]==0]\n",
    "data = data[\"DISTANCIA\"].values\n",
    "mean = average(data)\n",
    "\n",
    "stddev = std(data, ddof=1)\n",
    "\n",
    "t_bounds = t.interval(0.95, len(data) - 1)\n",
    "\n",
    "c0 = [mean + critval * stddev / sqrt(len(data)) for critval in t_bounds]\n",
    "\n",
    "print \"Media: %f\" % mean\n",
    "print \"Tamano Muestra: \", len(data)\n",
    "print \"Intervalo de Confianza 95%%: [%f, %f]\" % (c0[0], c0[1])"
   ]
  },
  {
   "cell_type": "markdown",
   "metadata": {},
   "source": [
    "INTERVALO DE CONFIANZA (DISTANCIA) - CLUSTER 1"
   ]
  },
  {
   "cell_type": "code",
   "execution_count": null,
   "metadata": {
    "scrolled": true
   },
   "outputs": [],
   "source": [
    "data = matriz.loc[matriz[\"CLUSTER\"]==1]\n",
    "data = data[\"DISTANCIA\"].values\n",
    "mean = average(data)\n",
    "\n",
    "stddev = std(data, ddof=1)\n",
    "\n",
    "t_bounds = t.interval(0.95, len(data) - 1)\n",
    "\n",
    "c1 = [mean + critval * stddev / sqrt(len(data)) for critval in t_bounds]\n",
    "\n",
    "print \"Media: %f\" % mean\n",
    "print \"Tamano Muestra: \", len(data)\n",
    "print \"Intervalo de Confianza 95%%: [%f, %f]\" % (c1[0], c1[1])"
   ]
  },
  {
   "cell_type": "markdown",
   "metadata": {},
   "source": [
    "INTERVALO DE CONFIANZA (DISTANCIA) - CLUSTER 2"
   ]
  },
  {
   "cell_type": "code",
   "execution_count": null,
   "metadata": {
    "scrolled": true
   },
   "outputs": [],
   "source": [
    "data = matriz.loc[matriz[\"CLUSTER\"]==2]\n",
    "data = data[\"DISTANCIA\"].values\n",
    "mean = average(data)\n",
    "\n",
    "stddev = std(data, ddof=1)\n",
    "\n",
    "t_bounds = t.interval(0.95, len(data) - 1)\n",
    "\n",
    "c2 = [mean + critval * stddev / sqrt(len(data)) for critval in t_bounds]\n",
    "\n",
    "print \"Media: %f\" % mean\n",
    "print \"Tamano Muestra: \", len(data)\n",
    "print \"Intervalo de Confianza 95%%: [%f, %f]\" % (c2[0], c2[1])"
   ]
  },
  {
   "cell_type": "markdown",
   "metadata": {},
   "source": [
    "DENTRO DE RANGO GLOBAL"
   ]
  },
  {
   "cell_type": "code",
   "execution_count": null,
   "metadata": {
    "collapsed": true
   },
   "outputs": [],
   "source": [
    "matriz[\"IN-RANGO GLOBAL\"]=np.where(matriz[\"DISTANCIA\"]<=cG[1],0,1)"
   ]
  },
  {
   "cell_type": "markdown",
   "metadata": {},
   "source": [
    "DENTRO DE RANGO LOCAL"
   ]
  },
  {
   "cell_type": "code",
   "execution_count": null,
   "metadata": {
    "collapsed": true
   },
   "outputs": [],
   "source": [
    "matriz[\"IN-RANGO LOCAL\"]=np.where((matriz[\"CLUSTER\"]==0)&(matriz[\"DISTANCIA\"]<=c0[1]),0,\n",
    "                                 np.where((matriz[\"CLUSTER\"]==1)&(matriz[\"DISTANCIA\"]<=c1[1]),0,\n",
    "                                          np.where((matriz[\"CLUSTER\"]==2)&(matriz[\"DISTANCIA\"]<=c1[1]),0,1)))"
   ]
  },
  {
   "cell_type": "markdown",
   "metadata": {},
   "source": [
    "DENTRO DE RANGOS GLOBAL Y LOCAL"
   ]
  },
  {
   "cell_type": "code",
   "execution_count": null,
   "metadata": {
    "collapsed": true
   },
   "outputs": [],
   "source": [
    "matriz[\"CALIFICACION\"]=np.where(matriz[\"IN-RANGO LOCAL\"]==0,0,1)"
   ]
  },
  {
   "cell_type": "markdown",
   "metadata": {},
   "source": [
    "VISTA PRELIMINAR"
   ]
  },
  {
   "cell_type": "code",
   "execution_count": null,
   "metadata": {},
   "outputs": [],
   "source": [
    "print \"Número de nodos en rango global: \", len(matriz.loc[matriz[\"IN-RANGO GLOBAL\"]==0]),\"(\",float(len(matriz.loc[matriz[\"IN-RANGO GLOBAL\"]==0]))/float(len(matriz))*100,\"%\",\")\"\n",
    "print \"\"\n",
    "print \"Número de nodos en rango local (0): \", len(matriz.loc[(matriz[\"IN-RANGO LOCAL\"]==0)&(matriz[\"CLUSTER\"]==0)]),\"(\",float(float(len(matriz.loc[(matriz[\"IN-RANGO LOCAL\"]==0)&(matriz[\"CLUSTER\"]==0)]))/float(len(matriz.loc[matriz[\"CLUSTER\"]==0])))*100,\"%\",\")\"\n",
    "print \"Número de nodos en rango local (1): \", len(matriz.loc[(matriz[\"IN-RANGO LOCAL\"]==0)&(matriz[\"CLUSTER\"]==1)]),\"(\",float(float(len(matriz.loc[(matriz[\"IN-RANGO LOCAL\"]==0)&(matriz[\"CLUSTER\"]==1)]))/float(len(matriz.loc[matriz[\"CLUSTER\"]==1])))*100,\"%\",\")\"\n",
    "print \"Número de nodos en rango local (2): \", len(matriz.loc[(matriz[\"IN-RANGO LOCAL\"]==0)&(matriz[\"CLUSTER\"]==2)]),\"(\",float(float(len(matriz.loc[(matriz[\"IN-RANGO LOCAL\"]==0)&(matriz[\"CLUSTER\"]==2)]))/float(len(matriz.loc[matriz[\"CLUSTER\"]==2])))*100,\"%\",\")\"\n",
    "print \"\"\n",
    "print \"Cluster 0 (#): \", len(matriz.loc[matriz[\"CLUSTER\"]==0])\n",
    "print \"Cluster 1 (#): \", len(matriz.loc[matriz[\"CLUSTER\"]==1])\n",
    "print \"Cluster 2 (#): \", len(matriz.loc[matriz[\"CLUSTER\"]==2])"
   ]
  },
  {
   "cell_type": "code",
   "execution_count": null,
   "metadata": {},
   "outputs": [],
   "source": [
    "matriz.describe()"
   ]
  },
  {
   "cell_type": "markdown",
   "metadata": {},
   "source": [
    "REGRESION LOGISTICA"
   ]
  },
  {
   "cell_type": "code",
   "execution_count": null,
   "metadata": {
    "collapsed": true
   },
   "outputs": [],
   "source": [
    "dummy_cluster = pd.get_dummies(matriz['CLUSTER'], prefix='CLUSTER')\n",
    "cols_to_keep = ['PLAZO (CLASE)','VALOR (CLASE)','A. TIEMPO (CLASE)','A. DINERO (CLASE)']\n",
    "data = matriz[cols_to_keep].join(dummy_cluster)\n",
    "data['INTERCEPT'] = 1.0"
   ]
  },
  {
   "cell_type": "markdown",
   "metadata": {},
   "source": [
    "REG LOG CLUSTER 0"
   ]
  },
  {
   "cell_type": "code",
   "execution_count": null,
   "metadata": {
    "scrolled": true
   },
   "outputs": [],
   "source": [
    "data0=data.copy()\n",
    "data0=data0[[\"CLUSTER_0\",\"PLAZO (CLASE)\",\"VALOR (CLASE)\",\"A. TIEMPO (CLASE)\",\"A. DINERO (CLASE)\"]]\n",
    "data0.columns = data0.columns.get_level_values(0)\n",
    "\n",
    "train_cols = data0.columns[1:]\n",
    "\n",
    "logit = sm.Logit(data0['CLUSTER_0'], data0[train_cols])\n",
    "\n",
    "result = logit.fit()\n",
    "result.summary()"
   ]
  },
  {
   "cell_type": "code",
   "execution_count": null,
   "metadata": {
    "scrolled": true
   },
   "outputs": [],
   "source": [
    "data1=data.copy()\n",
    "data1=data1[[\"CLUSTER_1\",\"PLAZO (CLASE)\",\"VALOR (CLASE)\",\"A. TIEMPO (CLASE)\",\"A. DINERO (CLASE)\"]]\n",
    "data1.columns = data1.columns.get_level_values(0)\n",
    "\n",
    "train_cols = data1.columns[1:]\n",
    "\n",
    "logit = sm.Logit(data1['CLUSTER_1'], data1[train_cols])\n",
    "\n",
    "result = logit.fit()\n",
    "result.summary()"
   ]
  },
  {
   "cell_type": "code",
   "execution_count": null,
   "metadata": {
    "scrolled": true
   },
   "outputs": [],
   "source": [
    "data2=data.copy()\n",
    "data2=data2[[\"CLUSTER_2\",\"PLAZO (CLASE)\",\"VALOR (CLASE)\",\"A. TIEMPO (CLASE)\",\"A. DINERO (CLASE)\"]]\n",
    "data2.columns = data2.columns.get_level_values(0)\n",
    "\n",
    "train_cols = data2.columns[1:]\n",
    "\n",
    "logit = sm.Logit(data2['CLUSTER_2'], data2[train_cols])\n",
    "\n",
    "result = logit.fit()\n",
    "result.summary()"
   ]
  },
  {
   "cell_type": "markdown",
   "metadata": {},
   "source": [
    "# MATRIZ"
   ]
  },
  {
   "cell_type": "code",
   "execution_count": null,
   "metadata": {},
   "outputs": [],
   "source": [
    "matriz"
   ]
  },
  {
   "cell_type": "markdown",
   "metadata": {},
   "source": [
    "# IMPRIMIR MATRIZ"
   ]
  },
  {
   "cell_type": "markdown",
   "metadata": {
    "collapsed": true
   },
   "source": [
    "writer = pd.ExcelWriter('MATRIZ_FINAL.xlsx')\n",
    "matriz.to_excel(writer,'MATRIZ',index=False)\n",
    "writer.save()"
   ]
  }
 ],
 "metadata": {
  "kernelspec": {
   "display_name": "Python 2",
   "language": "python",
   "name": "python2"
  },
  "language_info": {
   "codemirror_mode": {
    "name": "ipython",
    "version": 2
   },
   "file_extension": ".py",
   "mimetype": "text/x-python",
   "name": "python",
   "nbconvert_exporter": "python",
   "pygments_lexer": "ipython2",
   "version": "2.7.13"
  }
 },
 "nbformat": 4,
 "nbformat_minor": 2
}
