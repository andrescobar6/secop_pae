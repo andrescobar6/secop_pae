{
 "cells": [
  {
   "cell_type": "markdown",
   "metadata": {},
   "source": [
    "# PROYECCION 2"
   ]
  },
  {
   "cell_type": "markdown",
   "metadata": {
    "collapsed": true
   },
   "source": [
    "import pip\n",
    "import csv\n",
    "import operator\n",
    "import numpy as np\n",
    "import pandas as pd\n",
    "import networkx as nx\n",
    "import matplotlib.pyplot as plt\n",
    "from networkx.algorithms import bipartite\n",
    "\n",
    "\n",
    "### CREAR UNA NUEVA RED\n",
    "\n",
    "G = nx.Graph()\n",
    "\n",
    "\n",
    "### DATOS\n",
    "\n",
    "data = pd.ExcelFile('SECOP (PAE) (FINAL).xlsx')\n",
    "calif = pd.read_excel(data,'NODOS_CALIF',names=[\"CALIFICACION_CONTRATO\"])\n",
    "rep_contratistas = pd.read_excel(data,'NODOS_REP(C)',names=[\"REPRESENTANTE (CONTRATISTA)\"])\n",
    "\n",
    "        \n",
    "### ARCHIVO DE NODOS DE CALIFICACION\n",
    "\n",
    "for row in list(calif[\"CALIFICACION_CONTRATO\"]):\n",
    "    G.add_node(row, bipartite=0)\n",
    "    G.node[row][\"NOMBRE (E)\"]=row\n",
    "\n",
    "\n",
    "### ARCHIVO DE NODOS DE REPRESENTANTES DE CONTRATISTAS\n",
    "\n",
    "for row in list(rep_contratistas[\"REPRESENTANTE (CONTRATISTA)\"]):\n",
    "    G.add_node(row, bipartite=1)\n",
    "    G.node[row][\"NOMBRE (C)\"]=row"
   ]
  },
  {
   "cell_type": "markdown",
   "metadata": {
    "collapsed": true
   },
   "source": [
    "### ARCHIVO DE ARCOS DE REPRESENTANTES DE ENTIDADES Y REPRESENTANTES DE CONTRATISTAS\n",
    "\n",
    "data = pd.ExcelFile('SECOP (PAE) (FINAL).xlsx')\n",
    "arcos_rep_e_rep_c = pd.read_excel(data,'ARCOS_REP(E)_REP(C)',names=[\"URL\",\"NOMBRE_REPRESENTATE_ENTIDAD\",\"NOMBRE_REPRESENTANTE\",\"TIPO_PROCESO\",\"OBJETO_CONTRATO\",\"TIPO_CONTRATO\",\"CLASE PLAZO\",\"CLASE ADICION T\",\"CLASE VALOR\",\"CLASE ADICION $\",\"CALIFICACION\",\"NODO_CALIFICACION\"])\n",
    "\n",
    "for index,row in arcos_rep_e_rep_c.iterrows():\n",
    "    if (row[\"NODO_CALIFICACION\"] in G.nodes()) and (row[\"NOMBRE_REPRESENTANTE\"] in G.nodes()):\n",
    "        G.add_edge(row[\"NODO_CALIFICACION\"],row[\"NOMBRE_REPRESENTANTE\"])"
   ]
  },
  {
   "cell_type": "markdown",
   "metadata": {
    "collapsed": true
   },
   "source": [
    "### TOP AND BOTTOM NODES\n",
    "\n",
    "top_nodes = set(n for n,d in G.nodes(data=True) if d[\"bipartite\"]==0)\n",
    "bottom_nodes = set(G)-top_nodes"
   ]
  },
  {
   "cell_type": "markdown",
   "metadata": {
    "collapsed": true
   },
   "source": [
    "### FUNCION DE PESO\n",
    "\n",
    "def peso(G,u,v,weight=\"CALIFICACION\"):\n",
    "    for iterador in set(G[u]) & set(G[v]):\n",
    "        w=int(G[u][iterador].get(weight,1))+int(G[v][iterador].get(weight,1))\n",
    "        if w == 0:\n",
    "            k=1\n",
    "        elif w==1:\n",
    "            k=2\n",
    "        elif w==2:\n",
    "            k=3\n",
    "    return k"
   ]
  },
  {
   "cell_type": "markdown",
   "metadata": {
    "collapsed": true
   },
   "source": [
    "### PROYECCION BIPARTITA PARA REPRESENTANTES DE CONTRATISTAS\n",
    "\n",
    "G_1 = bipartite.generic_weighted_projected_graph(G, bottom_nodes,weight_function=peso)"
   ]
  },
  {
   "cell_type": "markdown",
   "metadata": {
    "collapsed": true
   },
   "source": [
    "### EXPORTAR RED BIPARTITA\n",
    "\n",
    "nx.write_graphml(G_1,\"BIPARTITA_1.graphml\")"
   ]
  },
  {
   "cell_type": "markdown",
   "metadata": {},
   "source": [
    "# PROYECCION 1"
   ]
  },
  {
   "cell_type": "code",
   "execution_count": 11,
   "metadata": {
    "collapsed": true
   },
   "outputs": [],
   "source": [
    "import pip\n",
    "import csv\n",
    "import operator\n",
    "import numpy as np\n",
    "import random as rd\n",
    "import pandas as pd\n",
    "import networkx as nx\n",
    "from scipy import stats\n",
    "import matplotlib.pyplot as plt\n",
    "from networkx.algorithms import bipartite\n",
    "\n",
    "\n",
    "## CREAR UNA NUEVA RED\n",
    "\n",
    "G = nx.Graph()\n",
    "\n",
    "\n",
    "## DATOS\n",
    "\n",
    "data = pd.ExcelFile('SECOP (PAE) (FINAL).xlsx')\n",
    "rep_entidades = pd.read_excel(data,'NODOS_REP(E)',names=[\"REPRESENTANTE (ENTIDAD)\"])\n",
    "rep_contratistas = pd.read_excel(data,'NODOS_REP(C)',names=[\"REPRESENTANTE (CONTRATISTA)\"])\n",
    "\n",
    "\n",
    "## ARCHIVO DE NODOS DE REPRESENTANTES DE ENTIDADES\n",
    "\n",
    "for row in list(rep_entidades[\"REPRESENTANTE (ENTIDAD)\"]):\n",
    "    if row not in list(rep_contratistas[\"REPRESENTANTE (CONTRATISTA)\"]):\n",
    "        G.add_node(row, bipartite=0)\n",
    "        G.node[row][\"NOMBRE (E)\"]=row\n",
    "        \n",
    "\n",
    "## ARCHIVO DE NODOS DE REPRESENTANTES DE CONTRATISTAS\n",
    "\n",
    "for row in list(rep_contratistas[\"REPRESENTANTE (CONTRATISTA)\"]):\n",
    "    if row not in list(rep_entidades[\"REPRESENTANTE (ENTIDAD)\"]):\n",
    "        G.add_node(row, bipartite=1)\n",
    "        G.node[row][\"NOMBRE (C)\"]=row"
   ]
  },
  {
   "cell_type": "code",
   "execution_count": 12,
   "metadata": {
    "collapsed": true
   },
   "outputs": [],
   "source": [
    "## ARCHIVO DE ARCOS DE REPRESENTANTES DE ENTIDADES Y REPRESENTANTES DE CONTRATISTAS\n",
    "\n",
    "data = pd.ExcelFile('SECOP (PAE) (FINAL).xlsx')\n",
    "arcos_rep_e_rep_c = pd.read_excel(data,'ARCOS_REP(E)_REP(C)',names=[\"URL\",\"NOMBRE_REPRESENTATE_ENTIDAD\",\"NOMBRE_REPRESENTANTE\",\"TIPO_PROCESO\",\"OBJETO_CONTRATO\",\"TIPO_CONTRATO\",\"CLASE PLAZO\",\"CLASE ADICION T\",\"CLASE VALOR\",\"CLASE ADICION $\",\"CALIFICACION\",\"NODO_CALIFICACION\"])\n",
    "\n",
    "for index,row in arcos_rep_e_rep_c.iterrows():\n",
    "    if (row[\"NOMBRE_REPRESENTATE_ENTIDAD\"] in G.nodes()) and (row[\"NOMBRE_REPRESENTANTE\"] in G.nodes()):\n",
    "        if (row[\"NOMBRE_REPRESENTATE_ENTIDAD\"],row[\"NOMBRE_REPRESENTANTE\"]) in G.edges():\n",
    "            G[row[\"NOMBRE_REPRESENTATE_ENTIDAD\"]][row[\"NOMBRE_REPRESENTANTE\"]][\"CONTADOR\"]+=1\n",
    "        else:\n",
    "            G.add_edge(row[\"NOMBRE_REPRESENTATE_ENTIDAD\"],row[\"NOMBRE_REPRESENTANTE\"])\n",
    "            G[row[\"NOMBRE_REPRESENTATE_ENTIDAD\"]][row[\"NOMBRE_REPRESENTANTE\"]][\"CONTADOR\"]=1\n",
    "            G[row[\"NOMBRE_REPRESENTATE_ENTIDAD\"]][row[\"NOMBRE_REPRESENTANTE\"]][\"TIPO_PROCESO\"] = row[\"TIPO_PROCESO\"]        \n",
    "            G[row[\"NOMBRE_REPRESENTATE_ENTIDAD\"]][row[\"NOMBRE_REPRESENTANTE\"]][\"OBJETO_CONTRATO\"] = row[\"OBJETO_CONTRATO\"]\n",
    "            G[row[\"NOMBRE_REPRESENTATE_ENTIDAD\"]][row[\"NOMBRE_REPRESENTANTE\"]][\"TIPO_CONTRATO\"] = row[\"TIPO_CONTRATO\"]\n",
    "            G[row[\"NOMBRE_REPRESENTATE_ENTIDAD\"]][row[\"NOMBRE_REPRESENTANTE\"]][\"CLASE PLAZO\"] = row[\"CLASE PLAZO\"]\n",
    "            G[row[\"NOMBRE_REPRESENTATE_ENTIDAD\"]][row[\"NOMBRE_REPRESENTANTE\"]][\"CLASE ADICION T\"] = row[\"CLASE ADICION T\"]\n",
    "            G[row[\"NOMBRE_REPRESENTATE_ENTIDAD\"]][row[\"NOMBRE_REPRESENTANTE\"]][\"CLASE VALOR\"] = row[\"CLASE VALOR\"]\n",
    "            G[row[\"NOMBRE_REPRESENTATE_ENTIDAD\"]][row[\"NOMBRE_REPRESENTANTE\"]][\"CLASE ADICION $\"] = row[\"CLASE ADICION $\"]\n",
    "            G[row[\"NOMBRE_REPRESENTATE_ENTIDAD\"]][row[\"NOMBRE_REPRESENTANTE\"]][\"CALIFICACION\"] = row[\"CALIFICACION\"]"
   ]
  },
  {
   "cell_type": "code",
   "execution_count": 13,
   "metadata": {
    "collapsed": true
   },
   "outputs": [],
   "source": [
    "## TOP AND BOTTOM NODES\n",
    "\n",
    "top_nodes = set(n for n,d in G.nodes(data=True) if d[\"bipartite\"]==0)\n",
    "bottom_nodes = set(G)-top_nodes"
   ]
  },
  {
   "cell_type": "code",
   "execution_count": 14,
   "metadata": {
    "collapsed": true
   },
   "outputs": [],
   "source": [
    "## FUNCION DE PESO\n",
    "\n",
    "def peso(G,u,v,weight=\"CALIFICACION\"):\n",
    "    for iterador in set(G[u]) & set(G[v]):\n",
    "        w=int(G[u][iterador].get(weight,1))+int(G[v][iterador].get(weight,1))\n",
    "        if w == 0:\n",
    "            k=1\n",
    "        elif w==1:\n",
    "            k=2\n",
    "        elif w==2:\n",
    "            k=3\n",
    "    return k"
   ]
  },
  {
   "cell_type": "code",
   "execution_count": 15,
   "metadata": {
    "collapsed": true
   },
   "outputs": [],
   "source": [
    "## PROYECCION BIPARTITA PARA REPRESENTANTES DE CONTRATISTAS\n",
    "\n",
    "G_1 = bipartite.generic_weighted_projected_graph(G, bottom_nodes,weight_function=peso)"
   ]
  },
  {
   "cell_type": "code",
   "execution_count": 16,
   "metadata": {
    "collapsed": true
   },
   "outputs": [],
   "source": [
    "## CALIFICACIÓN PROMEDIO\n",
    "\n",
    "data2 = pd.ExcelFile('SECOP (PAE) (FINAL).xlsx')\n",
    "calificacion_prom = pd.read_excel(data2,'CALIFICACION_PROM',names=[\"REPRESENTANTE (C)\",\"CALIFICACION\"])"
   ]
  },
  {
   "cell_type": "code",
   "execution_count": 17,
   "metadata": {
    "collapsed": true
   },
   "outputs": [],
   "source": [
    "representantes_c=calificacion_prom.copy()\n",
    "representantes_c=representantes_c[[\"REPRESENTANTE (C)\"]]\n",
    "representantes_c.columns = representantes_c.columns.get_level_values(0)\n",
    "representantes_c=representantes_c.drop_duplicates(subset=[\"REPRESENTANTE (C)\"])\n",
    "representantes_c[\"CALIFICACION_PROM\"]=\"\"\n",
    "\n",
    "for index,row in representantes_c.iterrows():\n",
    "    lista_row=[]\n",
    "    for index_2,row_2 in calificacion_prom.iterrows():\n",
    "        if row[\"REPRESENTANTE (C)\"]==row_2[\"REPRESENTANTE (C)\"]:\n",
    "            lista_row.append(row_2[\"CALIFICACION\"])\n",
    "    promedio=np.average(lista_row)\n",
    "    row[\"CALIFICACION_PROM\"]=promedio"
   ]
  },
  {
   "cell_type": "markdown",
   "metadata": {},
   "source": [
    "writer = pd.ExcelWriter('CALIFICACION_PROM_REP (C).xlsx')\n",
    "representantes_c.to_excel(writer,'CALIFICACION',index=False)\n",
    "writer.save()"
   ]
  },
  {
   "cell_type": "markdown",
   "metadata": {
    "collapsed": true
   },
   "source": [
    "### EXPORTAR RED BIPARTITA\n",
    "\n",
    "nx.write_graphml(G_1,\"wawa.graphml\")"
   ]
  },
  {
   "cell_type": "markdown",
   "metadata": {},
   "source": [
    "# RESULTADOS PROYECCIONES"
   ]
  },
  {
   "cell_type": "markdown",
   "metadata": {},
   "source": [
    "PROYECCION REPRESENTANTE CONTRATISTA_REPRESENTANTE ENTIDAD"
   ]
  },
  {
   "cell_type": "markdown",
   "metadata": {
    "collapsed": true
   },
   "source": [
    "lista_nodos_encontrados=[\"luis gonzalo giraldo marin\",\"nestor ricardo rodriguez ardila\",\"jaime andres caycedo jimenez\",\"carlos julio cristancho morales\",\"janeth guzman corredor\",\"angelica maria leguizamon ramirez\",\"claudia janneth leon velasco\",\"cindy zuleyda lopera baracaldo\",\"paola alejandra carvajal sandoval\",\"yadira ximena moreno sarmiento\",\"leidy jhoanna gallo aristizabal\",\"sandra yolima santamaria guerrero\",\"diego andres rodriguez leiva\",\"yenny liliana martinez vargas\",\"hector enrique moreno celis\",\"david jose zambrano bagarozza\",\"monica yulieth cano medina\",\"laura melissa vallejo diaz\",\"jairo alexander cancino arteaga\",\"lezvia maria de los santos perez fuentes\",\"carol rolay hernandez parada\",\"hernando aguirre tejada\",\"blanca fanny ramirez guerrero\",\"jorge enrique restrepo mantilla\",\"constanza medina puentes\",\"diana paola alonso gutierrez\",\"lina clemencia hernandez lopez\",\"luisa fernanda tellez jimenez\",\"lily andrea collazos fajardo\",\"jeimmy johanna cruz albarracin\",\"jaime alberto pabon perez\",\"enid ramos bubu\",\"doricela diazgranados contreras\",\"pedro luis bohorquez ramirez\",\"antonio manuel parodys carmona\",\"roberto carlos amor olaya\",\"luz aleider herrera algeciras\",\"jaime lasso campo\",\"luis guillermo palacio torres\",\"elbert gildardo rodriguez contreras\",\"saul bailarin rubiano\",\"edelina perez torrente\",\"jose humberto canon dominguez\",\"diana maria villamizar fonseca\",\"claudia andrea roberto shilito\",\"ana maria alzate arismendy\",\"julian andres aramendiz marin\",\"alexander monsalve garciaa\",\"luis hernando santos nino\",\"carolina martinez villa\",\"jose de jesus gonzalez joven\",\"cristian alberto garcia villamizar\",\"lizeth camila vasquez diaz\",\"cielo hipatia rangel luengas\",\"lorna lizbeth marin ariza\",\"luisa fernanda sanchez parra\",\"ariel ivan ruiz parra\",\"jair enrique fuentes correa\",\"viviana rocio nunez mesa\",\"lida rodriguez guiza\",\"farid prado campo\",\"elvis alexander gil zamudio\",\"luis fernando garcia zapata\",\"sebastian gomez lotero\",\"alexander lozano mahecha\",\"sandra patricia torres arteaga\",\"marisol tovar nunez\",\"guillermo andres marin rubio\",\"yamile astrid casas lopez\",\"orlando arnulfo chacon barliza\",\"oscar javier sierra rincon\",\"jose vicente azuero gonzalez\",\"angela alexandra cortes romero\",\"allison andrea paez rodriguez\",\"hector javier venegas salas\",\"jairo alberto silva ceballos\",\"alexander monsalve garcia\",\"ivan dario rodriguez bustamante\",\"ana catalina suarez galvis\",\"maria fernanda bohorquez torres\",\"camilo andres garcia ortiz\",\"yineth cruz barbosa\",\"natalia rodriguez corzo\",\"geluy alvarez calderon\",\"ana maria salazar molano\"]"
   ]
  },
  {
   "cell_type": "markdown",
   "metadata": {
    "collapsed": true
   },
   "source": [
    "df_degree=pd.DataFrame(columns=[\"NOMBRE\",\"GRADO\"])\n",
    "for i in lista_nodos_encontrados:\n",
    "    df_degree=df_degree.append(pd.DataFrame({'NOMBRE': i, 'GRADO': G_1.degree(i)}, index=[0]))\n",
    "    df_degree=df_degree.drop_duplicates()\n",
    "\n",
    "df_degree=df_degree[[\"NOMBRE\",\"GRADO\"]]\n",
    "df_degree.to_csv(\"df_degree.csv\",sep=\"/\",index=False)"
   ]
  },
  {
   "cell_type": "markdown",
   "metadata": {},
   "source": [
    "df_fuerza=pd.DataFrame(columns=[\"NOMBRE\",\"FUERZA\"])\n",
    "for i in lista_nodos_encontrados:\n",
    "    weight=0\n",
    "    list_weight=[]\n",
    "    for j in G_1.nodes():\n",
    "        if i != j:\n",
    "            try:\n",
    "                weight = G_1[i][j].get(\"weight\")\n",
    "                list_weight.append(weight)\n",
    "            except:\n",
    "                pass\n",
    "    \n",
    "    df_fuerza=df_fuerza.append(pd.DataFrame({'NOMBRE': i, 'FUERZA': np.average(list_weight)}, index=[0]))\n",
    "\n",
    "\n",
    "df_fuerza=df_fuerza.drop_duplicates()    \n",
    "df_fuerza=df_fuerza[[\"NOMBRE\",\"FUERZA\"]]\n",
    "df_fuerza.to_csv(\"df_fuerza.csv\",sep=\"/\",index=False)"
   ]
  },
  {
   "cell_type": "markdown",
   "metadata": {
    "collapsed": true
   },
   "source": [
    "df_betweenn=pd.DataFrame(columns=[\"NOMBRE\",\"BETWEENN\"])\n",
    "betweenness = nx.betweenness_centrality(G_1)\n",
    "for i in lista_nodos_encontrados:\n",
    "    df_betweenn=df_betweenn.append(pd.DataFrame({'NOMBRE': i, 'BETWEENN': betweenness[i]}, index=[0]))\n",
    "    df_betweenn=df_betweenn.drop_duplicates()\n",
    "\n",
    "df_betweenn=df_betweenn[[\"NOMBRE\",\"BETWEENN\"]]\n",
    "df_betweenn.to_csv(\"df_betweenn.csv\",sep=\"/\",index=False)"
   ]
  },
  {
   "cell_type": "markdown",
   "metadata": {
    "collapsed": true
   },
   "source": [
    "df_clustering=pd.DataFrame(columns=[\"NOMBRE\",\"CLUSTERING\"])\n",
    "clustering = nx.clustering(G_1)\n",
    "for i in lista_nodos_encontrados:\n",
    "    df_clustering=df_clustering.append(pd.DataFrame({'NOMBRE': i, 'CLUSTERING': clustering[i]}, index=[0]))\n",
    "    df_clustering=df_clustering.drop_duplicates()\n",
    "\n",
    "df_clustering=df_clustering[[\"NOMBRE\",\"CLUSTERING\"]]\n",
    "df_clustering.to_csv(\"df_clustering.csv\",sep=\"/\",index=False)"
   ]
  },
  {
   "cell_type": "markdown",
   "metadata": {
    "collapsed": true
   },
   "source": [
    "df_closeness=pd.DataFrame(columns=[\"NOMBRE\",\"CLOSENESS\"])\n",
    "closeness = nx.closeness_centrality(G_1)\n",
    "for i in lista_nodos_encontrados:\n",
    "    df_closeness=df_closeness.append(pd.DataFrame({'NOMBRE': i, 'CLOSENESS': closeness[i]}, index=[0]))\n",
    "    df_closeness=df_closeness.drop_duplicates()\n",
    "\n",
    "df_closeness=df_closeness[[\"NOMBRE\",\"CLOSENESS\"]]\n",
    "df_closeness.to_csv(\"df_closeness.csv\",sep=\"/\",index=False)"
   ]
  },
  {
   "cell_type": "markdown",
   "metadata": {},
   "source": [
    "# ANALISIS DE HOMOFILIA"
   ]
  },
  {
   "cell_type": "code",
   "execution_count": 18,
   "metadata": {
    "collapsed": true
   },
   "outputs": [],
   "source": [
    "#HOMOFILIA\n",
    "\n",
    "Prop = dict()\n",
    "\n",
    "A = 0\n",
    "B = 0\n",
    "\n",
    "Nodes_Cal=set()\n",
    "\n",
    "\n",
    "#BASE DE DATOS DE CALIFICACIONES\n",
    "\n",
    "data3 = pd.ExcelFile('CALIFICACION_PROM_REP (C).xlsx')\n",
    "nodos_calificacion_rango = pd.read_excel(data3,'CALIFICACION',names=[\"REPRESENTANTE (C)\",\"CALIFICACION_PROM\",\"CALIFICACION_PROM_VALOR\",\"CALIFICACION_RANGO\"])\n",
    "\n",
    "\n",
    "#AGREGAR ATRIBUTO A CADA UNO DE LOS NODOS\n",
    "\n",
    "for index,row in nodos_calificacion_rango.iterrows():\n",
    "    for n in G_1.nodes():\n",
    "        if row[\"REPRESENTANTE (C)\"]==n:\n",
    "            G_1.node[n][\"RANGO\"]=row[\"CALIFICACION_RANGO\"]\n",
    "            G_1.node[n][\"ANORM\"]=row[\"CALIFICACION_PROM_VALOR\"]\n",
    "\n",
    "            \n",
    "#PROPORCIONES\n",
    "\n",
    "for n in G_1.nodes():\n",
    "    if G_1.node[n]['RANGO']=='A':\n",
    "        A=A+1\n",
    "    elif G_1.node[n]['RANGO']=='B':\n",
    "        B=B+1\n",
    "\n",
    "Prop[\"A\"]=float(float(A)/float(G_1.number_of_nodes()))\n",
    "Prop[\"B\"]=float(float(B)/float(G_1.number_of_nodes()))\n",
    "\n",
    "\n",
    "#GRADO POR RANGO EN LA RED\n",
    "\n",
    "Grado_G_1 = nx.degree(G_1)\n",
    "\n",
    "Grado_R_A=list()\n",
    "Grado_R_B=list()\n",
    "\n",
    "for n in G_1.nodes():\n",
    "    if G_1.node[n]['RANGO']=='A':\n",
    "        Grado_R_A.append(Grado_G_1[n])\n",
    "    elif G_1.node[n]['RANGO']=='B':\n",
    "        Grado_R_B.append(Grado_G_1[n])\n",
    "\n",
    "\n",
    "#Calculando la cantidad de arcos para combinación entre RANGOos:\n",
    "O = dict()\n",
    "\n",
    "O['A-A']=0\n",
    "O['B-A']=0\n",
    "O['B-B']=0\n",
    "\n",
    "for e in G_1.edges():\n",
    "    Source = e[0]\n",
    "    Target = e[1]\n",
    "    if (G_1.node[Source]['RANGO']=='A') and (G_1.node[Target]['RANGO']=='A'):\n",
    "        O['A-A']+=1\n",
    "    elif G_1.node[Source]['RANGO']!=G_1.node[Target]['RANGO']:\n",
    "        O['B-A']+=1\n",
    "    elif (G_1.node[Source]['RANGO']=='B') and (G_1.node[Target]['RANGO']=='B'):\n",
    "        O['B-B']+=1\n",
    "        \n",
    "\n",
    "#LISTAS DE RESULTADOS DE PERMUTACIONES\n",
    "r = dict()\n",
    "\n",
    "r['A-A']=list()\n",
    "r['B-A']=list()\n",
    "r['B-B']=list()"
   ]
  },
  {
   "cell_type": "code",
   "execution_count": null,
   "metadata": {
    "collapsed": true
   },
   "outputs": [],
   "source": [
    "for i in range(4000):\n",
    "    #CREAR GRAFO DEL MODELO NULO:\n",
    "    \n",
    "    G_nulo = G_1\n",
    "    for n in G_nulo.nodes():\n",
    "        if rd.random() < Prop[\"A\"]:\n",
    "            G_nulo.node[n]['RANGO'] = 'A'\n",
    "        else:\n",
    "            G_nulo.node[n]['RANGO'] = 'B'\n",
    "    \n",
    "    #GRADO DEL MODELO NULO POR RANGO PARA LA APROBACION CONTRAFACTUAL DE LA RED\n",
    "    \n",
    "    Grado_Null = nx.degree(G_nulo)\n",
    "    Grado_R_A_Null=list()\n",
    "    Grado_R_B_Null=list()\n",
    "\n",
    "    for n in G_nulo.nodes():\n",
    "        if G_nulo.node[n]['RANGO']=='A':\n",
    "            Grado_R_A_Null.append(Grado_Null[n])\n",
    "        elif G_nulo.node[n]['RANGO']=='B':\n",
    "            Grado_R_B_Null.append(Grado_Null[n])\n",
    "\n",
    "    #EVALUAR EL PORCENTAJE DE ACEPTACION DE LA RED GENERADA\n",
    "    \n",
    "    if (abs((np.mean(Grado_R_A)/np.mean(Grado_R_A_Null))-1) < 0.1) and (abs((np.mean(Grado_R_B)/np.mean(Grado_R_B_Null))-1) < 0.1):\n",
    "        \n",
    "        #Calculando la cantidad de arcos para combinación entre sexos:\n",
    "        \n",
    "        S = dict()\n",
    "        S['A-A']=0\n",
    "        S['B-A']=0\n",
    "        S['B-B']=0\n",
    "        for e in G_1.edges():\n",
    "            Source = e[0]\n",
    "            Target = e[1]\n",
    "            if (G_nulo.node[Source]['RANGO']=='A') and (G_nulo.node[Target]['RANGO']=='A'):\n",
    "                S['A-A']+=1\n",
    "            elif G_nulo.node[Source]['RANGO'] != G_nulo.node[Target]['RANGO']:\n",
    "                S['B-A']+=1\n",
    "            elif (G_nulo.node[Source]['RANGO']=='B') and (G_nulo.node[Target]['RANGO']=='B'):\n",
    "                S['B-B']+=1\n",
    "        \n",
    "        #RADIO OBSERVADO Y PERMUTACION\n",
    "        \n",
    "        r['A-A'].append(float(O[\"A-A\"])/float(S['A-A']))\n",
    "        r['B-A'].append(float(O[\"B-A\"])/float(S['B-A']))\n",
    "        r['B-B'].append(float(O[\"B-B\"])/float(S['B-B']))"
   ]
  },
  {
   "cell_type": "code",
   "execution_count": null,
   "metadata": {
    "scrolled": false
   },
   "outputs": [],
   "source": [
    "#PARAMETROS DE LA DISTRIBUCION: MEDIA, VARIANZA\n",
    "\n",
    "mu = 1\n",
    "sigma = 0.1\n",
    "\n",
    "\n",
    "#GENERACION DE DATOS\n",
    "\n",
    "y=r[\"A-A\"]\n",
    "\n",
    "\n",
    "#GENERACION DEL HISTOGRAMA\n",
    "\n",
    "count, bins, ignored =plt.hist(y,100,normed=True)\n",
    "\n",
    "\n",
    "#GENERACION DE LA FUNCION DE DENSIDAD DE PROBABILIDAD CORRESPONDIENTE\n",
    "\n",
    "plt.plot(bins, 1/(sigma * np.sqrt(2 * np.pi)) * np.exp( - (bins - mu)**2 / (2 * sigma**2) ),linewidth=2, color='r')\n",
    "\n",
    "plt.show()\n",
    "\n",
    "print('normaltest teststat = %6.3f pvalue = %6.4f' % stats.normaltest(y))\n",
    "print \"Verificación de homofilia para el tipo de conexión [A-A]\"\n",
    "\n",
    "#GENERACION DE LOS DATOS\n",
    "\n",
    "y=r[\"B-B\"]\n",
    "\n",
    "\n",
    "#GENERACION DEL HISTOGRAMA\n",
    "\n",
    "count, bins, ignored =plt.hist(y,100,normed=True)\n",
    "\n",
    "\n",
    "#GENERACION DE LA FUNCION DE DENSIDAD DE PROBABILIDAD CORRESPONDIENTE\n",
    "\n",
    "plt.plot(bins, 1/(sigma * np.sqrt(2 * np.pi)) * np.exp( - (bins - mu)**2 / (2 * sigma**2) ), linewidth=2, color='r')\n",
    "\n",
    "plt.show()\n",
    "\n",
    "print('normaltest teststat = %6.3f pvalue = %6.4f' % stats.normaltest(y))\n",
    "print \"Verificación de homofilia para el tipo de conexión [B-B]\"\n",
    "\n",
    "\n",
    "#GENERACION DE LOS DATOS\n",
    "\n",
    "y=r[\"B-A\"]\n",
    "\n",
    "\n",
    "#GENERACION DEL HISTOGRAMA\n",
    "\n",
    "count, bins, ignored =plt.hist(y,100,normed=True)\n",
    "\n",
    "\n",
    "#GENERACION DE LA FUNCION DE DENSIDAD DE PROBABILIDAD CORRESPONDIENTE\n",
    "\n",
    "plt.plot(bins, 1/(sigma * np.sqrt(2 * np.pi)) * np.exp( - (bins - mu)**2 / (2 * sigma**2) ), linewidth=2, color='r')\n",
    "\n",
    "plt.show()\n",
    "\n",
    "print('normaltest teststat = %6.3f pvalue = %6.4f' % stats.normaltest(y))\n",
    "print \"Verificación de heterofilia para el tipo de conexión [B-A]\""
   ]
  }
 ],
 "metadata": {
  "kernelspec": {
   "display_name": "Python 2",
   "language": "python",
   "name": "python2"
  },
  "language_info": {
   "codemirror_mode": {
    "name": "ipython",
    "version": 2
   },
   "file_extension": ".py",
   "mimetype": "text/x-python",
   "name": "python",
   "nbconvert_exporter": "python",
   "pygments_lexer": "ipython2",
   "version": "2.7.13"
  }
 },
 "nbformat": 4,
 "nbformat_minor": 2
}
