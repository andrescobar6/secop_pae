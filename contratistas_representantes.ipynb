{
 "cells": [
  {
   "cell_type": "markdown",
   "metadata": {},
   "source": [
    "# RED GENERAL"
   ]
  },
  {
   "cell_type": "code",
   "execution_count": null,
   "metadata": {
    "collapsed": true
   },
   "outputs": [],
   "source": [
    "#________________________________________LIBRERIAS\n",
    "\n",
    "import networkx as nx\n",
    "import numpy as np\n",
    "import matplotlib.pyplot as plt\n",
    "import operator\n",
    "import pip\n",
    "import csv\n",
    "import pickle\n",
    "from networkx.algorithms import bipartite"
   ]
  },
  {
   "cell_type": "code",
   "execution_count": null,
   "metadata": {
    "collapsed": true
   },
   "outputs": [],
   "source": [
    "#________________________________________LEER LA RED DE SECOP\n",
    "\n",
    "G=nx.Graph()\n",
    "\n",
    "NODOS_CONTRATISTAS = csv.reader(open(\"CONTRATISTAS.csv\"), delimiter=\";\")\n",
    "next(NODOS_CONTRATISTAS, None)\n",
    "for row in NODOS_CONTRATISTAS:\n",
    "    #print (row)\n",
    "    G.add_node(row[0], bipartite=0)\n",
    "    G.node[row[0]][\"Nombre Contratista\"]=row[0]\n",
    "    G.node[row[0]][\"Origen Contratista\"]=row[1]"
   ]
  },
  {
   "cell_type": "code",
   "execution_count": null,
   "metadata": {
    "collapsed": true
   },
   "outputs": [],
   "source": [
    "NODOS_REPRESENTANTES = csv.reader(open(\"REPRESENTANTES.csv\"), delimiter=\";\")\n",
    "next(NODOS_REPRESENTANTES, None)\n",
    "for row in NODOS_REPRESENTANTES:\n",
    "    #print (row)\n",
    "    G.add_node(row[0], bipartite=1)\n",
    "    G.node[row[0]][\"Nombre Representante\"]=row[0]"
   ]
  },
  {
   "cell_type": "code",
   "execution_count": null,
   "metadata": {
    "collapsed": true
   },
   "outputs": [],
   "source": [
    "EDGES = csv.reader(open(\"EDGES.csv\"), delimiter=\";\")\n",
    "next(EDGES, None)\n",
    "for row in EDGES:\n",
    "    if((row[6],row[8]) in G.edges()):\n",
    "        G.edge[row[6]][row[8]][\"Numero de Contratos\"]+=1\n",
    "        G.edge[row[6]][row[8]][\"Adiciones (Tiempo %)\"] += row[11]       \n",
    "        G.edge[row[6]][row[8]][\"Adiciones (Dinero %)\"] += row[15]\n",
    "        G.edge[row[6]][row[8]][\"Valor con Adiciones\"] += row[14]\n",
    "    elif(row[6] in G.nodes()) and (row[8] in G.nodes()):\n",
    "        G.add_edge(row[6],row[8])\n",
    "        G.edge[row[6]][row[8]][\"Numero de Contratos\"]=1\n",
    "        G.edge[row[6]][row[8]][\"Adiciones (Tiempo %)\"] = row[11]       \n",
    "        G.edge[row[6]][row[8]][\"Adiciones (Dinero %)\"] = row[15]\n",
    "        G.edge[row[6]][row[8]][\"Valor con Adiciones\"] = row[14]"
   ]
  },
  {
   "cell_type": "code",
   "execution_count": null,
   "metadata": {
    "collapsed": true
   },
   "outputs": [],
   "source": [
    "#________________________________________CREAR LA RED BIPARTITA\n",
    "\n",
    "top_nodes = set(n for n,d in G.nodes(data=True) if d[\"bipartite\"]==0)\n",
    "bottom_nodes = set(G)-top_nodes"
   ]
  },
  {
   "cell_type": "markdown",
   "metadata": {},
   "source": [
    "# Proyección Representantes:"
   ]
  },
  {
   "cell_type": "code",
   "execution_count": null,
   "metadata": {
    "collapsed": true
   },
   "outputs": [],
   "source": [
    "G_1 = bipartite.generic_weighted_projected_graph(G, bottom_nodes)"
   ]
  },
  {
   "cell_type": "markdown",
   "metadata": {},
   "source": [
    "# Proyección Conratistas:"
   ]
  },
  {
   "cell_type": "code",
   "execution_count": null,
   "metadata": {
    "collapsed": true
   },
   "outputs": [],
   "source": [
    "G_2 = bipartite.generic_weighted_projected_graph(G, top_nodes)"
   ]
  },
  {
   "cell_type": "markdown",
   "metadata": {},
   "source": [
    "# Pruebas:"
   ]
  },
  {
   "cell_type": "code",
   "execution_count": null,
   "metadata": {},
   "outputs": [],
   "source": [
    "G.number_of_edges()"
   ]
  },
  {
   "cell_type": "markdown",
   "metadata": {},
   "source": [
    "# Exportar Red:"
   ]
  },
  {
   "cell_type": "code",
   "execution_count": null,
   "metadata": {
    "collapsed": true
   },
   "outputs": [],
   "source": [
    "nx.write_graphml(G_1,\"P_REPRESENTANTES_CR.graphml\")\n",
    "nx.write_graphml(G_2,\"P_CONTRATISTAS_CR.graphml\")\n",
    "nx.write_graphml(G,\"R_BIPARTITA_CR.graphml\")"
   ]
  }
 ],
 "metadata": {
  "kernelspec": {
   "display_name": "Python 2",
   "language": "python",
   "name": "python2"
  },
  "language_info": {
   "codemirror_mode": {
    "name": "ipython",
    "version": 2
   },
   "file_extension": ".py",
   "mimetype": "text/x-python",
   "name": "python",
   "nbconvert_exporter": "python",
   "pygments_lexer": "ipython2",
   "version": "2.7.13"
  }
 },
 "nbformat": 4,
 "nbformat_minor": 2
}
